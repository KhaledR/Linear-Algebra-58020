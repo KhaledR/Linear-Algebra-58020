{
  "nbformat": 4,
  "nbformat_minor": 0,
  "metadata": {
    "colab": {
      "name": "Python Execise 3.ipynb",
      "provenance": [],
      "authorship_tag": "ABX9TyO0ChrTEMPsLA99AcKbGFa3",
      "include_colab_link": true
    },
    "kernelspec": {
      "name": "python3",
      "display_name": "Python 3"
    },
    "language_info": {
      "name": "python"
    }
  },
  "cells": [
    {
      "cell_type": "markdown",
      "metadata": {
        "id": "view-in-github",
        "colab_type": "text"
      },
      "source": [
        "<a href=\"https://colab.research.google.com/github/KhaledR/Linear-Algebra-58020/blob/main/Python_Execise_3.ipynb\" target=\"_parent\"><img src=\"https://colab.research.google.com/assets/colab-badge.svg\" alt=\"Open In Colab\"/></a>"
      ]
    },
    {
      "cell_type": "code",
      "metadata": {
        "colab": {
          "base_uri": "https://localhost:8080/"
        },
        "id": "mi183RpVjROw",
        "outputId": "720c762e-fcbb-4f94-9aa8-55de45123394"
      },
      "source": [
        "import numpy as np \n",
        "\n",
        "A = np.array([[1,1,1],[1,2,2],[1,2,3]])\n",
        "\n",
        "inv_A = np.linalg.inv(A)\n",
        "\n",
        "B = np.array([[5],[6],[8]])\n",
        "\n",
        "#AA^-1x = BA^-1\n",
        "X = np.dot(inv_A,B)\n",
        "print(X)\n"
      ],
      "execution_count": 2,
      "outputs": [
        {
          "output_type": "stream",
          "name": "stdout",
          "text": [
            "[[ 4.]\n",
            " [-1.]\n",
            " [ 2.]]\n"
          ]
        }
      ]
    }
  ]
}