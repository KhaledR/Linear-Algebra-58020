{
  "nbformat": 4,
  "nbformat_minor": 0,
  "metadata": {
    "colab": {
      "name": "Midterm Exam.ipynb",
      "provenance": [],
      "authorship_tag": "ABX9TyOSRl1jTWzcQIfbjSY2WTNs",
      "include_colab_link": true
    },
    "kernelspec": {
      "name": "python3",
      "display_name": "Python 3"
    },
    "language_info": {
      "name": "python"
    }
  },
  "cells": [
    {
      "cell_type": "markdown",
      "metadata": {
        "id": "view-in-github",
        "colab_type": "text"
      },
      "source": [
        "<a href=\"https://colab.research.google.com/github/KhaledR/Linear-Algebra-58020/blob/main/Midterm_Exam.ipynb\" target=\"_parent\"><img src=\"https://colab.research.google.com/assets/colab-badge.svg\" alt=\"Open In Colab\"/></a>"
      ]
    },
    {
      "cell_type": "markdown",
      "metadata": {
        "id": "VDXlLu1f7TL_"
      },
      "source": [
        "#Midterm Exam"
      ]
    },
    {
      "cell_type": "code",
      "metadata": {
        "id": "KWxNg8d08Nvf"
      },
      "source": [
        "import numpy as np"
      ],
      "execution_count": 2,
      "outputs": []
    },
    {
      "cell_type": "markdown",
      "metadata": {
        "id": "uRcYvT0I7fNS"
      },
      "source": [
        "##Question 1"
      ]
    },
    {
      "cell_type": "code",
      "metadata": {
        "id": "xiVKMKJ151zo"
      },
      "source": [
        ""
      ],
      "execution_count": null,
      "outputs": []
    },
    {
      "cell_type": "markdown",
      "metadata": {
        "id": "YiVNBzxu7jRA"
      },
      "source": [
        "##Question 2"
      ]
    },
    {
      "cell_type": "code",
      "metadata": {
        "colab": {
          "base_uri": "https://localhost:8080/"
        },
        "id": "iDKMnrw87lkK",
        "outputId": "01b005bf-08ac-43d9-eec7-26d59b1116bb"
      },
      "source": [
        "np.triu([[5,2,6],[8,3,1],[9,4,7]])\n"
      ],
      "execution_count": 18,
      "outputs": [
        {
          "output_type": "execute_result",
          "data": {
            "text/plain": [
              "array([[5, 2, 6],\n",
              "       [0, 3, 1],\n",
              "       [0, 0, 7]])"
            ]
          },
          "metadata": {},
          "execution_count": 18
        }
      ]
    },
    {
      "cell_type": "markdown",
      "metadata": {
        "id": "NQ7Oex8i7l92"
      },
      "source": [
        "##Question 3"
      ]
    },
    {
      "cell_type": "code",
      "metadata": {
        "id": "aMRk-T3r7pFN"
      },
      "source": [
        ""
      ],
      "execution_count": null,
      "outputs": []
    },
    {
      "cell_type": "markdown",
      "metadata": {
        "id": "6PtSFKuY7ojy"
      },
      "source": [
        "##Question 4"
      ]
    },
    {
      "cell_type": "code",
      "metadata": {
        "colab": {
          "base_uri": "https://localhost:8080/"
        },
        "id": "xpxnKkeK7rb-",
        "outputId": "e49c9f98-f743-4fed-d221-b6d876bee8d8"
      },
      "source": [
        "C = np.array([[1,2,3],[2,3,3],[3,4,-2]])\n",
        "inv_C = np.linalg.inv(C) #initiation of inverse\n",
        "print(inv_C) #output"
      ],
      "execution_count": 3,
      "outputs": [
        {
          "output_type": "stream",
          "name": "stdout",
          "text": [
            "[[-3.6  3.2 -0.6]\n",
            " [ 2.6 -2.2  0.6]\n",
            " [-0.2  0.4 -0.2]]\n"
          ]
        }
      ]
    },
    {
      "cell_type": "markdown",
      "metadata": {
        "id": "AxqQoIgn8RUa"
      },
      "source": [
        "##Question 5"
      ]
    },
    {
      "cell_type": "code",
      "metadata": {
        "colab": {
          "base_uri": "https://localhost:8080/"
        },
        "id": "zDGszEme8TpP",
        "outputId": "d08ef030-1d32-410d-8c64-79fbdb82d8d0"
      },
      "source": [
        "#Finding the Determinant\n",
        "\n",
        "C = np.array([[1,2,3],[2,3,3],[3,4,-2]])\n",
        "det_C = np.linalg.det(C) #initiation of determinant\n",
        "print(det_C) #output\n"
      ],
      "execution_count": 6,
      "outputs": [
        {
          "output_type": "stream",
          "name": "stdout",
          "text": [
            "5.000000000000001\n"
          ]
        }
      ]
    },
    {
      "cell_type": "markdown",
      "metadata": {
        "id": "IGyyGvOB8UIl"
      },
      "source": [
        "##Question 6"
      ]
    },
    {
      "cell_type": "code",
      "metadata": {
        "colab": {
          "base_uri": "https://localhost:8080/"
        },
        "id": "t2T87TV18WGd",
        "outputId": "5fbb4107-3aa7-4de6-8bbe-155e66626d0c"
      },
      "source": [
        "A = np.array([[5,4,1],[10,9,4],[10,13,15]])\n",
        "\n",
        "inv_A = np.linalg.inv(A)\n",
        "\n",
        "B = np.array([[3.4],[8.8],[19.2]])\n",
        "\n",
        "X = np.dot(inv_A,B)\n",
        "print(X) #output\n"
      ],
      "execution_count": 4,
      "outputs": [
        {
          "output_type": "stream",
          "name": "stdout",
          "text": [
            "[[0.2]\n",
            " [0.4]\n",
            " [0.8]]\n"
          ]
        }
      ]
    }
  ]
}