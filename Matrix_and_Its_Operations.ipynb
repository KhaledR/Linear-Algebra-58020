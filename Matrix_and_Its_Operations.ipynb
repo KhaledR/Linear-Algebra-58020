{
  "nbformat": 4,
  "nbformat_minor": 0,
  "metadata": {
    "colab": {
      "name": "Matrix and Its Operations",
      "provenance": [],
      "authorship_tag": "ABX9TyM2JxlDIS4pm1F1ds5cB9yr",
      "include_colab_link": true
    },
    "kernelspec": {
      "name": "python3",
      "display_name": "Python 3"
    },
    "language_info": {
      "name": "python"
    }
  },
  "cells": [
    {
      "cell_type": "markdown",
      "metadata": {
        "id": "view-in-github",
        "colab_type": "text"
      },
      "source": [
        "<a href=\"https://colab.research.google.com/github/KhaledR/Linear-Algebra-58020/blob/main/Matrix_and_Its_Operations.ipynb\" target=\"_parent\"><img src=\"https://colab.research.google.com/assets/colab-badge.svg\" alt=\"Open In Colab\"/></a>"
      ]
    },
    {
      "cell_type": "code",
      "metadata": {
        "colab": {
          "base_uri": "https://localhost:8080/"
        },
        "id": "vmCisPUcNjwG",
        "outputId": "6414adbd-c2e0-49a9-f7c3-8f990b63bfb7"
      },
      "source": [
        "#Addition \n",
        "\n",
        "import numpy as np\n",
        "\n",
        "a = np.array([[-5,0],[4,1]])\n",
        "b = np.array([[6,-3],[2,3]])\n",
        "print(a+b)"
      ],
      "execution_count": 4,
      "outputs": [
        {
          "output_type": "stream",
          "name": "stdout",
          "text": [
            "[[ 1 -3]\n",
            " [ 6  4]]\n"
          ]
        }
      ]
    },
    {
      "cell_type": "code",
      "metadata": {
        "colab": {
          "base_uri": "https://localhost:8080/"
        },
        "id": "wo5ep8HhPSWa",
        "outputId": "53424c67-fb12-40b6-c688-26b7861c60d5"
      },
      "source": [
        "a = np.array([[-5,0],[4,1]])\n",
        "b = np.array([[6,-3],[2,3]])\n",
        "print(a-b)"
      ],
      "execution_count": 5,
      "outputs": [
        {
          "output_type": "stream",
          "name": "stdout",
          "text": [
            "[[-11   3]\n",
            " [  2  -2]]\n"
          ]
        }
      ]
    },
    {
      "cell_type": "code",
      "metadata": {
        "colab": {
          "base_uri": "https://localhost:8080/"
        },
        "id": "g18eXTSGPgMw",
        "outputId": "4af35663-63eb-4f03-d41d-575cabc09381"
      },
      "source": [
        "b = np.array([[6,-3],[2,3]])\n",
        "print(b-b)"
      ],
      "execution_count": 6,
      "outputs": [
        {
          "output_type": "stream",
          "name": "stdout",
          "text": [
            "[[0 0]\n",
            " [0 0]]\n"
          ]
        }
      ]
    }
  ]
}