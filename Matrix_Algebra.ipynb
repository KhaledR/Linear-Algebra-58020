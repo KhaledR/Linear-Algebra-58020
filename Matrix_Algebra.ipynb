{
  "nbformat": 4,
  "nbformat_minor": 0,
  "metadata": {
    "colab": {
      "name": "Matrix Algebra",
      "provenance": [],
      "collapsed_sections": [],
      "authorship_tag": "ABX9TyPkYxOGJ8ArayOdvXW/3CLE",
      "include_colab_link": true
    },
    "kernelspec": {
      "name": "python3",
      "display_name": "Python 3"
    },
    "language_info": {
      "name": "python"
    }
  },
  "cells": [
    {
      "cell_type": "markdown",
      "metadata": {
        "id": "view-in-github",
        "colab_type": "text"
      },
      "source": [
        "<a href=\"https://colab.research.google.com/github/KhaledR/Linear-Algebra-58020/blob/main/Matrix_Algebra.ipynb\" target=\"_parent\"><img src=\"https://colab.research.google.com/assets/colab-badge.svg\" alt=\"Open In Colab\"/></a>"
      ]
    },
    {
      "cell_type": "markdown",
      "metadata": {
        "id": "aKgxpIZT79cY"
      },
      "source": [
        "##Python program to inverse"
      ]
    },
    {
      "cell_type": "code",
      "metadata": {
        "colab": {
          "base_uri": "https://localhost:8080/"
        },
        "id": "2abk8Ruc7xfA",
        "outputId": "e3aa691c-d3ef-4404-f15c-a455f30ca634"
      },
      "source": [
        "import numpy as np\n",
        "\n",
        "A = np.array([[1,2],[4,7]])\n",
        "invA = (np.linalg.inv(A))\n",
        "print(invA)"
      ],
      "execution_count": 11,
      "outputs": [
        {
          "output_type": "stream",
          "name": "stdout",
          "text": [
            "[[-7.  2.]\n",
            " [ 4. -1.]]\n"
          ]
        }
      ]
    },
    {
      "cell_type": "code",
      "metadata": {
        "id": "OtZ8qWF1_HzZ",
        "colab": {
          "base_uri": "https://localhost:8080/"
        },
        "outputId": "1928dfa9-aa9a-44dc-a4cd-f85a8bdfe107"
      },
      "source": [
        "C = np.dot(A,invA)\n",
        "print(C)"
      ],
      "execution_count": 6,
      "outputs": [
        {
          "output_type": "stream",
          "name": "stdout",
          "text": [
            "[[1. 0.]\n",
            " [0. 1.]]\n"
          ]
        }
      ]
    },
    {
      "cell_type": "code",
      "metadata": {
        "colab": {
          "base_uri": "https://localhost:8080/"
        },
        "id": "YsJrJGfbCVjS",
        "outputId": "85816315-7ad2-47bd-a3c6-a7f5d0066575"
      },
      "source": [
        "##Python Program to transpose a 3x3 Matrix A = ([6,1,1],[4,-2,5],[2,8,7])\n",
        "\n",
        "A = np.array([[6,1,1],[4,-2,5],[2,8,7]])\n",
        "print(A)\n",
        "\n",
        "B = np.transpose(A)\n",
        "print(B)"
      ],
      "execution_count": 13,
      "outputs": [
        {
          "output_type": "stream",
          "name": "stdout",
          "text": [
            "[[ 6  1  1]\n",
            " [ 4 -2  5]\n",
            " [ 2  8  7]]\n",
            "[[ 6  4  2]\n",
            " [ 1 -2  8]\n",
            " [ 1  5  7]]\n"
          ]
        }
      ]
    },
    {
      "cell_type": "code",
      "metadata": {
        "colab": {
          "base_uri": "https://localhost:8080/"
        },
        "id": "E_dHQBFXD2IP",
        "outputId": "de1b7a06-c3c4-4604-b300-76865bb34954"
      },
      "source": [
        "##Python Program to inverse a 3x3 Matrix A = ([6,1,1],[4,-2,5],[2,8,7])\n",
        "\n",
        "A = np.array([[6,1,1],[4,-2,5],[2,8,7]])\n",
        "\n",
        "inv_A = (np.linalg.inv(A))\n",
        "print(inv_A)"
      ],
      "execution_count": 12,
      "outputs": [
        {
          "output_type": "stream",
          "name": "stdout",
          "text": [
            "[[ 0.17647059 -0.00326797 -0.02287582]\n",
            " [ 0.05882353 -0.13071895  0.08496732]\n",
            " [-0.11764706  0.1503268   0.05228758]]\n"
          ]
        }
      ]
    }
  ]
}