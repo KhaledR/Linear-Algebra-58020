{
  "nbformat": 4,
  "nbformat_minor": 0,
  "metadata": {
    "colab": {
      "name": "Vector Representation",
      "provenance": [],
      "authorship_tag": "ABX9TyMZL/mC0rMMomtDsiQZ45YX",
      "include_colab_link": true
    },
    "kernelspec": {
      "name": "python3",
      "display_name": "Python 3"
    },
    "language_info": {
      "name": "python"
    }
  },
  "cells": [
    {
      "cell_type": "markdown",
      "metadata": {
        "id": "view-in-github",
        "colab_type": "text"
      },
      "source": [
        "<a href=\"https://colab.research.google.com/github/KhaledR/Linear-Algebra-58020/blob/main/Vector_Representation.ipynb\" target=\"_parent\"><img src=\"https://colab.research.google.com/assets/colab-badge.svg\" alt=\"Open In Colab\"/></a>"
      ]
    },
    {
      "cell_type": "markdown",
      "metadata": {
        "id": "uV_5WF-2A4qO"
      },
      "source": [
        "#Matrix and its Operations "
      ]
    },
    {
      "cell_type": "code",
      "metadata": {
        "id": "QTK7hIr1BCh8"
      },
      "source": [
        "import numpy as np\n",
        "\n",
        "#Create a 1x3 matrix\n",
        "\n",
        "a = np.array([1,2,3])\n",
        "print(a)\n"
      ],
      "execution_count": null,
      "outputs": []
    },
    {
      "cell_type": "code",
      "metadata": {
        "id": "RlT8Cm7jB6tA"
      },
      "source": [
        "#Create a 2x3 matrix\n",
        "\n",
        "b = np.array([[1,2,3],[4,5,6]]) #This is an example of rectangular array\n",
        "print(b)"
      ],
      "execution_count": null,
      "outputs": []
    },
    {
      "cell_type": "code",
      "metadata": {
        "id": "yQH7SnnaCf7t"
      },
      "source": [
        "#Create a 3x3 matrix\n",
        "\n",
        "c = np.array([[1,2,3],[4,5,6],[7,8,9]]) \n",
        "print(c)"
      ],
      "execution_count": null,
      "outputs": []
    },
    {
      "cell_type": "code",
      "metadata": {
        "id": "4t8zhaEkDIhp"
      },
      "source": [
        "#Create a constant array with all values are 6\n",
        "\n",
        "d = np.full((4,4),6) #This is an example of square matrix\n",
        "print(d)"
      ],
      "execution_count": null,
      "outputs": []
    },
    {
      "cell_type": "code",
      "metadata": {
        "id": "CaxxGrHSDkjd"
      },
      "source": [
        "#Create a diagonal matrix\n",
        "\n",
        "e = np.array([[1,2,3],[4,5,6],[7,8,9]])\n",
        "print(e)\n",
        "e = np.diagonal([[1,2,3],[4,5,6],[7,8,9]])\n",
        "print(e)"
      ],
      "execution_count": null,
      "outputs": []
    },
    {
      "cell_type": "code",
      "metadata": {
        "id": "BqjdM85cEb1E"
      },
      "source": [
        "#Create an identity matrix \n",
        "\n",
        "f = np.eye(4)\n",
        "print(f)"
      ],
      "execution_count": null,
      "outputs": []
    },
    {
      "cell_type": "code",
      "metadata": {
        "id": "N1nLk86eE4CM"
      },
      "source": [
        "#Create a zero matrix\n",
        "\n",
        "g = np.zeros((4,5))\n",
        "print(g)"
      ],
      "execution_count": null,
      "outputs": []
    },
    {
      "cell_type": "code",
      "metadata": {
        "id": "2Lp9Leq_FZKz"
      },
      "source": [
        "#Create an empty matrix\n",
        "\n",
        "h = np.empty((0,5))\n",
        "print(h)"
      ],
      "execution_count": null,
      "outputs": []
    },
    {
      "cell_type": "code",
      "metadata": {
        "id": "Fdq6AtQsF4Gp",
        "colab": {
          "base_uri": "https://localhost:8080/"
        },
        "outputId": "d06afea2-18db-48b6-c8f3-91f04bf37e95"
      },
      "source": [
        "#Addition of Matrices\n",
        "\n",
        "i = np.array([[1,2,3],[4,5,6]])\n",
        "j = np.zeros((2,3))\n",
        "print(i+j)"
      ],
      "execution_count": 25,
      "outputs": [
        {
          "output_type": "stream",
          "name": "stdout",
          "text": [
            "[[1. 2. 3.]\n",
            " [4. 5. 6.]]\n"
          ]
        }
      ]
    },
    {
      "cell_type": "code",
      "metadata": {
        "colab": {
          "base_uri": "https://localhost:8080/"
        },
        "id": "d7icanEeGbJm",
        "outputId": "f8186005-ea0e-4f2d-e1aa-f11a9e675dd2"
      },
      "source": [
        "#Subtraction of Matrices\n",
        "\n",
        "i = np.array([[1,2,3],[4,5,6]])\n",
        "j = np.array([[-1,2,4],[7,4,2]])\n",
        "print(i-j)\n"
      ],
      "execution_count": 26,
      "outputs": [
        {
          "output_type": "stream",
          "name": "stdout",
          "text": [
            "[[ 2  0 -1]\n",
            " [-3  1  4]]\n"
          ]
        }
      ]
    }
  ]
}