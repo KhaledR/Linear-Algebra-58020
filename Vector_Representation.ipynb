{
  "nbformat": 4,
  "nbformat_minor": 0,
  "metadata": {
    "colab": {
      "name": "Vector Representation",
      "provenance": [],
      "authorship_tag": "ABX9TyMZL/mC0rMMomtDsiQZ45YX",
      "include_colab_link": true
    },
    "kernelspec": {
      "name": "python3",
      "display_name": "Python 3"
    },
    "language_info": {
      "name": "python"
    }
  },
  "cells": [
    {
      "cell_type": "markdown",
      "metadata": {
        "id": "view-in-github",
        "colab_type": "text"
      },
      "source": [
        "<a href=\"https://colab.research.google.com/github/KhaledR/Linear-Algebra-58020/blob/main/Vector_Representation.ipynb\" target=\"_parent\"><img src=\"https://colab.research.google.com/assets/colab-badge.svg\" alt=\"Open In Colab\"/></a>"
      ]
    },
    {
      "cell_type": "markdown",
      "metadata": {
        "id": "uV_5WF-2A4qO"
      },
      "source": [
        "#Matrix and its Operations "
      ]
    },
    {
      "cell_type": "code",
      "metadata": {
        "id": "QTK7hIr1BCh8",
        "outputId": "0dcee0a3-be23-4d00-dca2-7e8b5176cae5",
        "colab": {
          "base_uri": "https://localhost:8080/"
        }
      },
      "source": [
        "import numpy as np\n",
        "\n",
        "#Create a 1x3 matrix\n",
        "\n",
        "a = np.array([1,2,3])\n",
        "print(a)\n"
      ],
      "execution_count": 1,
      "outputs": [
        {
          "output_type": "stream",
          "name": "stdout",
          "text": [
            "[1 2 3]\n"
          ]
        }
      ]
    },
    {
      "cell_type": "code",
      "metadata": {
        "id": "RlT8Cm7jB6tA",
        "outputId": "eacdcde1-e290-43c2-a415-5e860c5e6f3d",
        "colab": {
          "base_uri": "https://localhost:8080/"
        }
      },
      "source": [
        "#Create a 2x3 matrix\n",
        "\n",
        "b = np.array([[1,2,3],[4,5,6]]) #This is an example of rectangular array\n",
        "print(b)"
      ],
      "execution_count": 2,
      "outputs": [
        {
          "output_type": "stream",
          "name": "stdout",
          "text": [
            "[[1 2 3]\n",
            " [4 5 6]]\n"
          ]
        }
      ]
    },
    {
      "cell_type": "code",
      "metadata": {
        "id": "yQH7SnnaCf7t",
        "outputId": "e58c67e5-ef14-49fe-b485-7173471b5755",
        "colab": {
          "base_uri": "https://localhost:8080/"
        }
      },
      "source": [
        "#Create a 3x3 matrix\n",
        "\n",
        "c = np.array([[1,2,3],[4,5,6],[7,8,9]]) \n",
        "print(c)"
      ],
      "execution_count": 3,
      "outputs": [
        {
          "output_type": "stream",
          "name": "stdout",
          "text": [
            "[[1 2 3]\n",
            " [4 5 6]\n",
            " [7 8 9]]\n"
          ]
        }
      ]
    },
    {
      "cell_type": "code",
      "metadata": {
        "id": "4t8zhaEkDIhp",
        "outputId": "7cdd3513-0998-468f-efb9-e65e086bf90b",
        "colab": {
          "base_uri": "https://localhost:8080/"
        }
      },
      "source": [
        "#Create a constant array with all values are 6\n",
        "\n",
        "d = np.full((4,4),6) #This is an example of square matrix\n",
        "print(d)"
      ],
      "execution_count": 4,
      "outputs": [
        {
          "output_type": "stream",
          "name": "stdout",
          "text": [
            "[[6 6 6 6]\n",
            " [6 6 6 6]\n",
            " [6 6 6 6]\n",
            " [6 6 6 6]]\n"
          ]
        }
      ]
    },
    {
      "cell_type": "code",
      "metadata": {
        "id": "CaxxGrHSDkjd",
        "outputId": "9164851f-1a8f-461e-a8b4-ce260d5338c8",
        "colab": {
          "base_uri": "https://localhost:8080/"
        }
      },
      "source": [
        "#Create a diagonal matrix\n",
        "\n",
        "e = np.array([[1,2,3],[4,5,6],[7,8,9]])\n",
        "print(e)\n",
        "e = np.diagonal([[1,2,3],[4,5,6],[7,8,9]])\n",
        "print(e)"
      ],
      "execution_count": 5,
      "outputs": [
        {
          "output_type": "stream",
          "name": "stdout",
          "text": [
            "[[1 2 3]\n",
            " [4 5 6]\n",
            " [7 8 9]]\n",
            "[1 5 9]\n"
          ]
        }
      ]
    },
    {
      "cell_type": "code",
      "metadata": {
        "id": "BqjdM85cEb1E",
        "outputId": "e958862c-4b4c-47d0-d8db-65d3df3dbc40",
        "colab": {
          "base_uri": "https://localhost:8080/"
        }
      },
      "source": [
        "#Create an identity matrix \n",
        "\n",
        "f = np.eye(4)\n",
        "print(f)"
      ],
      "execution_count": 6,
      "outputs": [
        {
          "output_type": "stream",
          "name": "stdout",
          "text": [
            "[[1. 0. 0. 0.]\n",
            " [0. 1. 0. 0.]\n",
            " [0. 0. 1. 0.]\n",
            " [0. 0. 0. 1.]]\n"
          ]
        }
      ]
    },
    {
      "cell_type": "code",
      "metadata": {
        "id": "N1nLk86eE4CM",
        "outputId": "1c4b2a68-a24a-45b1-834d-d46fd8d99fda",
        "colab": {
          "base_uri": "https://localhost:8080/"
        }
      },
      "source": [
        "#Create a zero matrix\n",
        "\n",
        "g = np.zeros((4,5))\n",
        "print(g)"
      ],
      "execution_count": 8,
      "outputs": [
        {
          "output_type": "stream",
          "name": "stdout",
          "text": [
            "[[0. 0. 0. 0. 0.]\n",
            " [0. 0. 0. 0. 0.]\n",
            " [0. 0. 0. 0. 0.]\n",
            " [0. 0. 0. 0. 0.]]\n"
          ]
        }
      ]
    },
    {
      "cell_type": "code",
      "metadata": {
        "id": "2Lp9Leq_FZKz",
        "outputId": "36680b62-05c5-4af7-da93-c5c0287f6234",
        "colab": {
          "base_uri": "https://localhost:8080/"
        }
      },
      "source": [
        "#Create an empty matrix\n",
        "\n",
        "h = np.empty((0,5))\n",
        "print(h)"
      ],
      "execution_count": 7,
      "outputs": [
        {
          "output_type": "stream",
          "name": "stdout",
          "text": [
            "[]\n"
          ]
        }
      ]
    },
    {
      "cell_type": "code",
      "metadata": {
        "id": "Fdq6AtQsF4Gp",
        "colab": {
          "base_uri": "https://localhost:8080/"
        },
        "outputId": "13049855-656d-4410-bb0a-122f80415ede"
      },
      "source": [
        "#Addition of Matrices\n",
        "\n",
        "i = np.array([[1,2,3],[4,5,6]])\n",
        "j = np.zeros((2,3))\n",
        "print(i+j)"
      ],
      "execution_count": 9,
      "outputs": [
        {
          "output_type": "stream",
          "name": "stdout",
          "text": [
            "[[1. 2. 3.]\n",
            " [4. 5. 6.]]\n"
          ]
        }
      ]
    },
    {
      "cell_type": "code",
      "metadata": {
        "colab": {
          "base_uri": "https://localhost:8080/"
        },
        "id": "d7icanEeGbJm",
        "outputId": "a469a656-967b-416e-d99a-fa9a310157c4"
      },
      "source": [
        "#Subtraction of Matrices\n",
        "\n",
        "i = np.array([[1,2,3],[4,5,6]])\n",
        "j = np.array([[-1,2,4],[7,4,2]])\n",
        "print(i-j)\n"
      ],
      "execution_count": 10,
      "outputs": [
        {
          "output_type": "stream",
          "name": "stdout",
          "text": [
            "[[ 2  0 -1]\n",
            " [-3  1  4]]\n"
          ]
        }
      ]
    }
  ]
}