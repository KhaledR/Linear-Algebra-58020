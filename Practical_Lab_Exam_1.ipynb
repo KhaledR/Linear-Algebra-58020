{
  "nbformat": 4,
  "nbformat_minor": 0,
  "metadata": {
    "colab": {
      "name": "Practical Lab Exam 1.ipynb",
      "provenance": [],
      "authorship_tag": "ABX9TyNefjcH8QKIkSie04Gbv/O9",
      "include_colab_link": true
    },
    "kernelspec": {
      "name": "python3",
      "display_name": "Python 3"
    },
    "language_info": {
      "name": "python"
    }
  },
  "cells": [
    {
      "cell_type": "markdown",
      "metadata": {
        "id": "view-in-github",
        "colab_type": "text"
      },
      "source": [
        "<a href=\"https://colab.research.google.com/github/KhaledR/Linear-Algebra-58020/blob/main/Practical_Lab_Exam_1.ipynb\" target=\"_parent\"><img src=\"https://colab.research.google.com/assets/colab-badge.svg\" alt=\"Open In Colab\"/></a>"
      ]
    },
    {
      "cell_type": "markdown",
      "metadata": {
        "id": "u5M9J1y3SDrx"
      },
      "source": [
        "#Practical Lab Exam 1"
      ]
    },
    {
      "cell_type": "markdown",
      "metadata": {
        "id": "dndfExk_AEZA"
      },
      "source": [
        "##Problem 1"
      ]
    },
    {
      "cell_type": "markdown",
      "metadata": {
        "id": "mO79GABxBx79"
      },
      "source": [
        "###a. WY"
      ]
    },
    {
      "cell_type": "code",
      "metadata": {
        "colab": {
          "base_uri": "https://localhost:8080/"
        },
        "id": "GRItqbWIAJtk",
        "outputId": "5b3b04e8-dbbe-4a97-a825-71c65f6e0c1d"
      },
      "source": [
        "import numpy as np\n",
        "\n",
        "W = np.array([[1,-3],[2,-2],[3,1]])\n",
        "Y = np.array([[1,2,0],[0,-1,2]])\n",
        "\n",
        "result1 = np.dot(W,Y)\n",
        "print(result1)\n"
      ],
      "execution_count": 27,
      "outputs": [
        {
          "output_type": "stream",
          "name": "stdout",
          "text": [
            "[[ 1  5 -6]\n",
            " [ 2  6 -4]\n",
            " [ 3  5  2]]\n"
          ]
        }
      ]
    },
    {
      "cell_type": "markdown",
      "metadata": {
        "id": "qxXZ2n28B4OH"
      },
      "source": [
        "###b. Z+Z"
      ]
    },
    {
      "cell_type": "code",
      "metadata": {
        "colab": {
          "base_uri": "https://localhost:8080/"
        },
        "id": "v1CNO9evB79-",
        "outputId": "1e81d8a1-326b-46d9-b157-61df2338df55"
      },
      "source": [
        "Z = np.array([[0,1],[2,3]])\n",
        "\n",
        "result2 = np.add(Z,Z)\n",
        "print(result2)\n"
      ],
      "execution_count": 24,
      "outputs": [
        {
          "output_type": "stream",
          "name": "stdout",
          "text": [
            "[[0 2]\n",
            " [4 6]]\n"
          ]
        }
      ]
    },
    {
      "cell_type": "markdown",
      "metadata": {
        "id": "L9SKbW0jDXT1"
      },
      "source": [
        "###c. 3X"
      ]
    },
    {
      "cell_type": "code",
      "metadata": {
        "colab": {
          "base_uri": "https://localhost:8080/"
        },
        "id": "QvBPmfsuDj6c",
        "outputId": "2f82c14a-da65-46a7-b66c-8e6750d965a1"
      },
      "source": [
        "X = np.array([[3,2,1],[-1,2,3],[2,-1,1]])\n",
        "\n",
        "result3 = np.dot(3,X)\n",
        "print(result3)"
      ],
      "execution_count": 26,
      "outputs": [
        {
          "output_type": "stream",
          "name": "stdout",
          "text": [
            "[[ 9  6  3]\n",
            " [-3  6  9]\n",
            " [ 6 -3  3]]\n"
          ]
        }
      ]
    },
    {
      "cell_type": "markdown",
      "metadata": {
        "id": "SxhdleOsEXAs"
      },
      "source": [
        "##Problem 2"
      ]
    },
    {
      "cell_type": "markdown",
      "metadata": {
        "id": "gB7K1QVZFiAa"
      },
      "source": [
        "###a. The product (YW)^2 is not defined"
      ]
    },
    {
      "cell_type": "code",
      "metadata": {
        "colab": {
          "base_uri": "https://localhost:8080/"
        },
        "id": "WjSJNBsoEeIQ",
        "outputId": "1ede7677-ac18-45a8-ac48-700f81b049c1"
      },
      "source": [
        "W = np.array([[1,-3],[2,-2],[3,1]])\n",
        "Y = np.array([[1,2,0],[0,-1,2]])\n",
        "\n",
        "dotresult = np.dot(Y,W)\n",
        "result4 = np.square(dotresult)\n",
        "print(result4) #False"
      ],
      "execution_count": 35,
      "outputs": [
        {
          "output_type": "stream",
          "name": "stdout",
          "text": [
            "[[25 49]\n",
            " [16 16]]\n"
          ]
        }
      ]
    },
    {
      "cell_type": "markdown",
      "metadata": {
        "id": "t59KBpnEF8yO"
      },
      "source": [
        "###b. WY - *X*"
      ]
    },
    {
      "cell_type": "code",
      "metadata": {
        "colab": {
          "base_uri": "https://localhost:8080/"
        },
        "id": "ToIfUcG_GDaL",
        "outputId": "d751fbc1-263e-4636-d2fc-ebd3b7bb37ee"
      },
      "source": [
        "W = np.array([[1,-3],[2,-2],[3,1]])\n",
        "Y = np.array([[1,2,0],[0,-1,2]])\n",
        "X = np.array([[3,2,1],[-1,2,3],[2,-1,1]])\n",
        "\n",
        "dotresult = np.dot(W,Y)\n",
        "result5 = np.subtract(dotresult,X)\n",
        "print(result5) #True\n"
      ],
      "execution_count": 30,
      "outputs": [
        {
          "output_type": "stream",
          "name": "stdout",
          "text": [
            "[[-2  3 -7]\n",
            " [ 3  4 -7]\n",
            " [ 1  6  1]]\n"
          ]
        }
      ]
    },
    {
      "cell_type": "markdown",
      "metadata": {
        "id": "Fgn6iIupGD4M"
      },
      "source": [
        "###c. YW - Z^2"
      ]
    },
    {
      "cell_type": "code",
      "metadata": {
        "colab": {
          "base_uri": "https://localhost:8080/"
        },
        "id": "xZ0ceI7SIKRv",
        "outputId": "ed41ee81-10fe-4d47-9ce6-b39f02d363a1"
      },
      "source": [
        "W = np.array([[1,-3],[2,-2],[3,1]])\n",
        "Y = np.array([[1,2,0],[0,-1,2]])\n",
        "Z = np.array([[0,1],[2,3]])\n",
        "\n",
        "dotresult = np.dot(Y,W)\n",
        "squareresult = np.square(Z)\n",
        "result6 = np.subtract(dotresult,squareresult)\n",
        "print(result6) #False"
      ],
      "execution_count": 36,
      "outputs": [
        {
          "output_type": "stream",
          "name": "stdout",
          "text": [
            "[[ 5 -8]\n",
            " [ 0 -5]]\n"
          ]
        }
      ]
    }
  ]
}